{
 "cells": [
  {
   "cell_type": "markdown",
   "metadata": {},
   "source": [
    "## Import all necessary libraries"
   ]
  },
  {
   "cell_type": "code",
   "execution_count": 1,
   "metadata": {},
   "outputs": [
    {
     "name": "stderr",
     "output_type": "stream",
     "text": [
      "Using TensorFlow backend.\n"
     ]
    }
   ],
   "source": [
    "import numpy as np\n",
    "import pandas as pd\n",
    "import matplotlib.pyplot as plt\n",
    "%matplotlib inline\n",
    "\n",
    "import keras as kr\n",
    "import sklearn\n",
    "import math\n",
    "from keras.models import Sequential\n",
    "from keras.layers import Dense, Activation, LSTM\n",
    "from sklearn.preprocessing import MinMaxScaler\n",
    "from sklearn.metrics import mean_squared_error\n",
    "\n",
    "import itertools\n",
    "import warnings\n",
    "warnings.filterwarnings('ignore')"
   ]
  },
  {
   "cell_type": "code",
   "execution_count": 2,
   "metadata": {},
   "outputs": [],
   "source": [
    "data = pd.read_csv('El-Nino.csv', sep = '\\t')"
   ]
  },
  {
   "cell_type": "code",
   "execution_count": 3,
   "metadata": {},
   "outputs": [
    {
     "data": {
      "text/html": [
       "<div>\n",
       "<style scoped>\n",
       "    .dataframe tbody tr th:only-of-type {\n",
       "        vertical-align: middle;\n",
       "    }\n",
       "\n",
       "    .dataframe tbody tr th {\n",
       "        vertical-align: top;\n",
       "    }\n",
       "\n",
       "    .dataframe thead th {\n",
       "        text-align: right;\n",
       "    }\n",
       "</style>\n",
       "<table border=\"1\" class=\"dataframe\">\n",
       "  <thead>\n",
       "    <tr style=\"text-align: right;\">\n",
       "      <th></th>\n",
       "      <th>Season</th>\n",
       "      <th>JJA</th>\n",
       "      <th>JAS</th>\n",
       "      <th>ASO</th>\n",
       "      <th>SON</th>\n",
       "      <th>OND</th>\n",
       "      <th>NDJ</th>\n",
       "      <th>DJF</th>\n",
       "      <th>JFM</th>\n",
       "      <th>FMA</th>\n",
       "      <th>MAM</th>\n",
       "      <th>AMJ</th>\n",
       "      <th>MJJ</th>\n",
       "    </tr>\n",
       "  </thead>\n",
       "  <tbody>\n",
       "    <tr>\n",
       "      <th>0</th>\n",
       "      <td>1950</td>\n",
       "      <td>-0.5</td>\n",
       "      <td>-0.4</td>\n",
       "      <td>-0.4</td>\n",
       "      <td>-0.4</td>\n",
       "      <td>-0.6</td>\n",
       "      <td>-0.8</td>\n",
       "      <td>-0.8</td>\n",
       "      <td>-0.5</td>\n",
       "      <td>-0.2</td>\n",
       "      <td>0.2</td>\n",
       "      <td>0.4</td>\n",
       "      <td>0.6</td>\n",
       "    </tr>\n",
       "    <tr>\n",
       "      <th>1</th>\n",
       "      <td>1951</td>\n",
       "      <td>0.7</td>\n",
       "      <td>0.9</td>\n",
       "      <td>1.0</td>\n",
       "      <td>1.2</td>\n",
       "      <td>1.0</td>\n",
       "      <td>0.8</td>\n",
       "      <td>0.5</td>\n",
       "      <td>0.4</td>\n",
       "      <td>0.3</td>\n",
       "      <td>0.3</td>\n",
       "      <td>0.2</td>\n",
       "      <td>0.0</td>\n",
       "    </tr>\n",
       "    <tr>\n",
       "      <th>2</th>\n",
       "      <td>1952</td>\n",
       "      <td>-0.1</td>\n",
       "      <td>0.0</td>\n",
       "      <td>0.2</td>\n",
       "      <td>0.1</td>\n",
       "      <td>0.0</td>\n",
       "      <td>0.1</td>\n",
       "      <td>0.4</td>\n",
       "      <td>0.6</td>\n",
       "      <td>0.6</td>\n",
       "      <td>0.7</td>\n",
       "      <td>0.8</td>\n",
       "      <td>0.8</td>\n",
       "    </tr>\n",
       "    <tr>\n",
       "      <th>3</th>\n",
       "      <td>1953</td>\n",
       "      <td>0.7</td>\n",
       "      <td>0.7</td>\n",
       "      <td>0.8</td>\n",
       "      <td>0.8</td>\n",
       "      <td>0.8</td>\n",
       "      <td>0.8</td>\n",
       "      <td>0.8</td>\n",
       "      <td>0.5</td>\n",
       "      <td>0.0</td>\n",
       "      <td>-0.4</td>\n",
       "      <td>-0.5</td>\n",
       "      <td>-0.5</td>\n",
       "    </tr>\n",
       "    <tr>\n",
       "      <th>4</th>\n",
       "      <td>1954</td>\n",
       "      <td>-0.6</td>\n",
       "      <td>-0.8</td>\n",
       "      <td>-0.9</td>\n",
       "      <td>-0.8</td>\n",
       "      <td>-0.7</td>\n",
       "      <td>-0.7</td>\n",
       "      <td>-0.7</td>\n",
       "      <td>-0.6</td>\n",
       "      <td>-0.7</td>\n",
       "      <td>-0.8</td>\n",
       "      <td>-0.8</td>\n",
       "      <td>-0.7</td>\n",
       "    </tr>\n",
       "  </tbody>\n",
       "</table>\n",
       "</div>"
      ],
      "text/plain": [
       "   Season  JJA  JAS  ASO  SON  OND  NDJ  DJF  JFM  FMA  MAM  AMJ  MJJ\n",
       "0    1950 -0.5 -0.4 -0.4 -0.4 -0.6 -0.8 -0.8 -0.5 -0.2  0.2  0.4  0.6\n",
       "1    1951  0.7  0.9  1.0  1.2  1.0  0.8  0.5  0.4  0.3  0.3  0.2  0.0\n",
       "2    1952 -0.1  0.0  0.2  0.1  0.0  0.1  0.4  0.6  0.6  0.7  0.8  0.8\n",
       "3    1953  0.7  0.7  0.8  0.8  0.8  0.8  0.8  0.5  0.0 -0.4 -0.5 -0.5\n",
       "4    1954 -0.6 -0.8 -0.9 -0.8 -0.7 -0.7 -0.7 -0.6 -0.7 -0.8 -0.8 -0.7"
      ]
     },
     "execution_count": 3,
     "metadata": {},
     "output_type": "execute_result"
    }
   ],
   "source": [
    "data.head()"
   ]
  },
  {
   "cell_type": "markdown",
   "metadata": {},
   "source": [
    "### Replace all column names by overwritting on it"
   ]
  },
  {
   "cell_type": "code",
   "execution_count": 4,
   "metadata": {},
   "outputs": [],
   "source": [
    "cols = ['Year','Janauary','February','March','April','May','June','July','August','September','October','November','December']"
   ]
  },
  {
   "cell_type": "code",
   "execution_count": 5,
   "metadata": {},
   "outputs": [],
   "source": [
    "data.columns = cols"
   ]
  },
  {
   "cell_type": "code",
   "execution_count": 6,
   "metadata": {},
   "outputs": [
    {
     "data": {
      "text/html": [
       "<div>\n",
       "<style scoped>\n",
       "    .dataframe tbody tr th:only-of-type {\n",
       "        vertical-align: middle;\n",
       "    }\n",
       "\n",
       "    .dataframe tbody tr th {\n",
       "        vertical-align: top;\n",
       "    }\n",
       "\n",
       "    .dataframe thead th {\n",
       "        text-align: right;\n",
       "    }\n",
       "</style>\n",
       "<table border=\"1\" class=\"dataframe\">\n",
       "  <thead>\n",
       "    <tr style=\"text-align: right;\">\n",
       "      <th></th>\n",
       "      <th>Year</th>\n",
       "      <th>Janauary</th>\n",
       "      <th>February</th>\n",
       "      <th>March</th>\n",
       "      <th>April</th>\n",
       "      <th>May</th>\n",
       "      <th>June</th>\n",
       "      <th>July</th>\n",
       "      <th>August</th>\n",
       "      <th>September</th>\n",
       "      <th>October</th>\n",
       "      <th>November</th>\n",
       "      <th>December</th>\n",
       "    </tr>\n",
       "  </thead>\n",
       "  <tbody>\n",
       "    <tr>\n",
       "      <th>0</th>\n",
       "      <td>1950</td>\n",
       "      <td>-0.5</td>\n",
       "      <td>-0.4</td>\n",
       "      <td>-0.4</td>\n",
       "      <td>-0.4</td>\n",
       "      <td>-0.6</td>\n",
       "      <td>-0.8</td>\n",
       "      <td>-0.8</td>\n",
       "      <td>-0.5</td>\n",
       "      <td>-0.2</td>\n",
       "      <td>0.2</td>\n",
       "      <td>0.4</td>\n",
       "      <td>0.6</td>\n",
       "    </tr>\n",
       "    <tr>\n",
       "      <th>1</th>\n",
       "      <td>1951</td>\n",
       "      <td>0.7</td>\n",
       "      <td>0.9</td>\n",
       "      <td>1.0</td>\n",
       "      <td>1.2</td>\n",
       "      <td>1.0</td>\n",
       "      <td>0.8</td>\n",
       "      <td>0.5</td>\n",
       "      <td>0.4</td>\n",
       "      <td>0.3</td>\n",
       "      <td>0.3</td>\n",
       "      <td>0.2</td>\n",
       "      <td>0.0</td>\n",
       "    </tr>\n",
       "    <tr>\n",
       "      <th>2</th>\n",
       "      <td>1952</td>\n",
       "      <td>-0.1</td>\n",
       "      <td>0.0</td>\n",
       "      <td>0.2</td>\n",
       "      <td>0.1</td>\n",
       "      <td>0.0</td>\n",
       "      <td>0.1</td>\n",
       "      <td>0.4</td>\n",
       "      <td>0.6</td>\n",
       "      <td>0.6</td>\n",
       "      <td>0.7</td>\n",
       "      <td>0.8</td>\n",
       "      <td>0.8</td>\n",
       "    </tr>\n",
       "    <tr>\n",
       "      <th>3</th>\n",
       "      <td>1953</td>\n",
       "      <td>0.7</td>\n",
       "      <td>0.7</td>\n",
       "      <td>0.8</td>\n",
       "      <td>0.8</td>\n",
       "      <td>0.8</td>\n",
       "      <td>0.8</td>\n",
       "      <td>0.8</td>\n",
       "      <td>0.5</td>\n",
       "      <td>0.0</td>\n",
       "      <td>-0.4</td>\n",
       "      <td>-0.5</td>\n",
       "      <td>-0.5</td>\n",
       "    </tr>\n",
       "    <tr>\n",
       "      <th>4</th>\n",
       "      <td>1954</td>\n",
       "      <td>-0.6</td>\n",
       "      <td>-0.8</td>\n",
       "      <td>-0.9</td>\n",
       "      <td>-0.8</td>\n",
       "      <td>-0.7</td>\n",
       "      <td>-0.7</td>\n",
       "      <td>-0.7</td>\n",
       "      <td>-0.6</td>\n",
       "      <td>-0.7</td>\n",
       "      <td>-0.8</td>\n",
       "      <td>-0.8</td>\n",
       "      <td>-0.7</td>\n",
       "    </tr>\n",
       "    <tr>\n",
       "      <th>5</th>\n",
       "      <td>1955</td>\n",
       "      <td>-0.7</td>\n",
       "      <td>-0.7</td>\n",
       "      <td>-1.1</td>\n",
       "      <td>-1.4</td>\n",
       "      <td>-1.7</td>\n",
       "      <td>-1.5</td>\n",
       "      <td>-1.1</td>\n",
       "      <td>-0.8</td>\n",
       "      <td>-0.6</td>\n",
       "      <td>-0.5</td>\n",
       "      <td>-0.5</td>\n",
       "      <td>-0.5</td>\n",
       "    </tr>\n",
       "    <tr>\n",
       "      <th>6</th>\n",
       "      <td>1956</td>\n",
       "      <td>-0.6</td>\n",
       "      <td>-0.6</td>\n",
       "      <td>-0.5</td>\n",
       "      <td>-0.4</td>\n",
       "      <td>-0.4</td>\n",
       "      <td>-0.4</td>\n",
       "      <td>-0.2</td>\n",
       "      <td>0.1</td>\n",
       "      <td>0.4</td>\n",
       "      <td>0.7</td>\n",
       "      <td>0.9</td>\n",
       "      <td>1.1</td>\n",
       "    </tr>\n",
       "    <tr>\n",
       "      <th>7</th>\n",
       "      <td>1957</td>\n",
       "      <td>1.3</td>\n",
       "      <td>1.3</td>\n",
       "      <td>1.3</td>\n",
       "      <td>1.4</td>\n",
       "      <td>1.5</td>\n",
       "      <td>1.7</td>\n",
       "      <td>1.8</td>\n",
       "      <td>1.7</td>\n",
       "      <td>1.3</td>\n",
       "      <td>0.9</td>\n",
       "      <td>0.7</td>\n",
       "      <td>0.6</td>\n",
       "    </tr>\n",
       "    <tr>\n",
       "      <th>8</th>\n",
       "      <td>1958</td>\n",
       "      <td>0.6</td>\n",
       "      <td>0.4</td>\n",
       "      <td>0.4</td>\n",
       "      <td>0.4</td>\n",
       "      <td>0.5</td>\n",
       "      <td>0.6</td>\n",
       "      <td>0.6</td>\n",
       "      <td>0.6</td>\n",
       "      <td>0.5</td>\n",
       "      <td>0.3</td>\n",
       "      <td>0.2</td>\n",
       "      <td>-0.1</td>\n",
       "    </tr>\n",
       "    <tr>\n",
       "      <th>9</th>\n",
       "      <td>1959</td>\n",
       "      <td>-0.2</td>\n",
       "      <td>-0.3</td>\n",
       "      <td>-0.1</td>\n",
       "      <td>0.0</td>\n",
       "      <td>0.0</td>\n",
       "      <td>0.0</td>\n",
       "      <td>-0.1</td>\n",
       "      <td>-0.1</td>\n",
       "      <td>-0.1</td>\n",
       "      <td>0.0</td>\n",
       "      <td>0.0</td>\n",
       "      <td>0.0</td>\n",
       "    </tr>\n",
       "  </tbody>\n",
       "</table>\n",
       "</div>"
      ],
      "text/plain": [
       "   Year  Janauary  February  March  April  May  June  July  August  September  \\\n",
       "0  1950      -0.5      -0.4   -0.4   -0.4 -0.6  -0.8  -0.8    -0.5       -0.2   \n",
       "1  1951       0.7       0.9    1.0    1.2  1.0   0.8   0.5     0.4        0.3   \n",
       "2  1952      -0.1       0.0    0.2    0.1  0.0   0.1   0.4     0.6        0.6   \n",
       "3  1953       0.7       0.7    0.8    0.8  0.8   0.8   0.8     0.5        0.0   \n",
       "4  1954      -0.6      -0.8   -0.9   -0.8 -0.7  -0.7  -0.7    -0.6       -0.7   \n",
       "5  1955      -0.7      -0.7   -1.1   -1.4 -1.7  -1.5  -1.1    -0.8       -0.6   \n",
       "6  1956      -0.6      -0.6   -0.5   -0.4 -0.4  -0.4  -0.2     0.1        0.4   \n",
       "7  1957       1.3       1.3    1.3    1.4  1.5   1.7   1.8     1.7        1.3   \n",
       "8  1958       0.6       0.4    0.4    0.4  0.5   0.6   0.6     0.6        0.5   \n",
       "9  1959      -0.2      -0.3   -0.1    0.0  0.0   0.0  -0.1    -0.1       -0.1   \n",
       "\n",
       "   October  November  December  \n",
       "0      0.2       0.4       0.6  \n",
       "1      0.3       0.2       0.0  \n",
       "2      0.7       0.8       0.8  \n",
       "3     -0.4      -0.5      -0.5  \n",
       "4     -0.8      -0.8      -0.7  \n",
       "5     -0.5      -0.5      -0.5  \n",
       "6      0.7       0.9       1.1  \n",
       "7      0.9       0.7       0.6  \n",
       "8      0.3       0.2      -0.1  \n",
       "9      0.0       0.0       0.0  "
      ]
     },
     "execution_count": 6,
     "metadata": {},
     "output_type": "execute_result"
    }
   ],
   "source": [
    "data.head(10)"
   ]
  },
  {
   "cell_type": "markdown",
   "metadata": {},
   "source": [
    "### Set Index as Year"
   ]
  },
  {
   "cell_type": "code",
   "execution_count": 7,
   "metadata": {},
   "outputs": [
    {
     "data": {
      "text/html": [
       "<div>\n",
       "<style scoped>\n",
       "    .dataframe tbody tr th:only-of-type {\n",
       "        vertical-align: middle;\n",
       "    }\n",
       "\n",
       "    .dataframe tbody tr th {\n",
       "        vertical-align: top;\n",
       "    }\n",
       "\n",
       "    .dataframe thead th {\n",
       "        text-align: right;\n",
       "    }\n",
       "</style>\n",
       "<table border=\"1\" class=\"dataframe\">\n",
       "  <thead>\n",
       "    <tr style=\"text-align: right;\">\n",
       "      <th></th>\n",
       "      <th>Janauary</th>\n",
       "      <th>February</th>\n",
       "      <th>March</th>\n",
       "      <th>April</th>\n",
       "      <th>May</th>\n",
       "      <th>June</th>\n",
       "      <th>July</th>\n",
       "      <th>August</th>\n",
       "      <th>September</th>\n",
       "      <th>October</th>\n",
       "      <th>November</th>\n",
       "      <th>December</th>\n",
       "    </tr>\n",
       "    <tr>\n",
       "      <th>Year</th>\n",
       "      <th></th>\n",
       "      <th></th>\n",
       "      <th></th>\n",
       "      <th></th>\n",
       "      <th></th>\n",
       "      <th></th>\n",
       "      <th></th>\n",
       "      <th></th>\n",
       "      <th></th>\n",
       "      <th></th>\n",
       "      <th></th>\n",
       "      <th></th>\n",
       "    </tr>\n",
       "  </thead>\n",
       "  <tbody>\n",
       "    <tr>\n",
       "      <th>1950</th>\n",
       "      <td>-0.5</td>\n",
       "      <td>-0.4</td>\n",
       "      <td>-0.4</td>\n",
       "      <td>-0.4</td>\n",
       "      <td>-0.6</td>\n",
       "      <td>-0.8</td>\n",
       "      <td>-0.8</td>\n",
       "      <td>-0.5</td>\n",
       "      <td>-0.2</td>\n",
       "      <td>0.2</td>\n",
       "      <td>0.4</td>\n",
       "      <td>0.6</td>\n",
       "    </tr>\n",
       "    <tr>\n",
       "      <th>1951</th>\n",
       "      <td>0.7</td>\n",
       "      <td>0.9</td>\n",
       "      <td>1.0</td>\n",
       "      <td>1.2</td>\n",
       "      <td>1.0</td>\n",
       "      <td>0.8</td>\n",
       "      <td>0.5</td>\n",
       "      <td>0.4</td>\n",
       "      <td>0.3</td>\n",
       "      <td>0.3</td>\n",
       "      <td>0.2</td>\n",
       "      <td>0.0</td>\n",
       "    </tr>\n",
       "    <tr>\n",
       "      <th>1952</th>\n",
       "      <td>-0.1</td>\n",
       "      <td>0.0</td>\n",
       "      <td>0.2</td>\n",
       "      <td>0.1</td>\n",
       "      <td>0.0</td>\n",
       "      <td>0.1</td>\n",
       "      <td>0.4</td>\n",
       "      <td>0.6</td>\n",
       "      <td>0.6</td>\n",
       "      <td>0.7</td>\n",
       "      <td>0.8</td>\n",
       "      <td>0.8</td>\n",
       "    </tr>\n",
       "    <tr>\n",
       "      <th>1953</th>\n",
       "      <td>0.7</td>\n",
       "      <td>0.7</td>\n",
       "      <td>0.8</td>\n",
       "      <td>0.8</td>\n",
       "      <td>0.8</td>\n",
       "      <td>0.8</td>\n",
       "      <td>0.8</td>\n",
       "      <td>0.5</td>\n",
       "      <td>0.0</td>\n",
       "      <td>-0.4</td>\n",
       "      <td>-0.5</td>\n",
       "      <td>-0.5</td>\n",
       "    </tr>\n",
       "    <tr>\n",
       "      <th>1954</th>\n",
       "      <td>-0.6</td>\n",
       "      <td>-0.8</td>\n",
       "      <td>-0.9</td>\n",
       "      <td>-0.8</td>\n",
       "      <td>-0.7</td>\n",
       "      <td>-0.7</td>\n",
       "      <td>-0.7</td>\n",
       "      <td>-0.6</td>\n",
       "      <td>-0.7</td>\n",
       "      <td>-0.8</td>\n",
       "      <td>-0.8</td>\n",
       "      <td>-0.7</td>\n",
       "    </tr>\n",
       "  </tbody>\n",
       "</table>\n",
       "</div>"
      ],
      "text/plain": [
       "      Janauary  February  March  April  May  June  July  August  September  \\\n",
       "Year                                                                         \n",
       "1950      -0.5      -0.4   -0.4   -0.4 -0.6  -0.8  -0.8    -0.5       -0.2   \n",
       "1951       0.7       0.9    1.0    1.2  1.0   0.8   0.5     0.4        0.3   \n",
       "1952      -0.1       0.0    0.2    0.1  0.0   0.1   0.4     0.6        0.6   \n",
       "1953       0.7       0.7    0.8    0.8  0.8   0.8   0.8     0.5        0.0   \n",
       "1954      -0.6      -0.8   -0.9   -0.8 -0.7  -0.7  -0.7    -0.6       -0.7   \n",
       "\n",
       "      October  November  December  \n",
       "Year                               \n",
       "1950      0.2       0.4       0.6  \n",
       "1951      0.3       0.2       0.0  \n",
       "1952      0.7       0.8       0.8  \n",
       "1953     -0.4      -0.5      -0.5  \n",
       "1954     -0.8      -0.8      -0.7  "
      ]
     },
     "execution_count": 7,
     "metadata": {},
     "output_type": "execute_result"
    }
   ],
   "source": [
    "data.set_index('Year', inplace = True)\n",
    "data.head()"
   ]
  },
  {
   "cell_type": "markdown",
   "metadata": {},
   "source": [
    "### Do transpose to know, how many years are present"
   ]
  },
  {
   "cell_type": "code",
   "execution_count": 8,
   "metadata": {},
   "outputs": [
    {
     "data": {
      "text/html": [
       "<div>\n",
       "<style scoped>\n",
       "    .dataframe tbody tr th:only-of-type {\n",
       "        vertical-align: middle;\n",
       "    }\n",
       "\n",
       "    .dataframe tbody tr th {\n",
       "        vertical-align: top;\n",
       "    }\n",
       "\n",
       "    .dataframe thead th {\n",
       "        text-align: right;\n",
       "    }\n",
       "</style>\n",
       "<table border=\"1\" class=\"dataframe\">\n",
       "  <thead>\n",
       "    <tr style=\"text-align: right;\">\n",
       "      <th>Year</th>\n",
       "      <th>1950</th>\n",
       "      <th>1951</th>\n",
       "      <th>1952</th>\n",
       "      <th>1953</th>\n",
       "      <th>1954</th>\n",
       "      <th>1955</th>\n",
       "      <th>1956</th>\n",
       "      <th>1957</th>\n",
       "      <th>1958</th>\n",
       "      <th>1959</th>\n",
       "      <th>...</th>\n",
       "      <th>2008</th>\n",
       "      <th>2009</th>\n",
       "      <th>2010</th>\n",
       "      <th>2011</th>\n",
       "      <th>2012</th>\n",
       "      <th>2013</th>\n",
       "      <th>2014</th>\n",
       "      <th>2015</th>\n",
       "      <th>2016</th>\n",
       "      <th>2017</th>\n",
       "    </tr>\n",
       "  </thead>\n",
       "  <tbody>\n",
       "    <tr>\n",
       "      <th>Janauary</th>\n",
       "      <td>-0.5</td>\n",
       "      <td>0.7</td>\n",
       "      <td>-0.1</td>\n",
       "      <td>0.7</td>\n",
       "      <td>-0.6</td>\n",
       "      <td>-0.7</td>\n",
       "      <td>-0.6</td>\n",
       "      <td>1.3</td>\n",
       "      <td>0.6</td>\n",
       "      <td>-0.2</td>\n",
       "      <td>...</td>\n",
       "      <td>-0.4</td>\n",
       "      <td>0.5</td>\n",
       "      <td>-1.0</td>\n",
       "      <td>-0.5</td>\n",
       "      <td>0.3</td>\n",
       "      <td>-0.4</td>\n",
       "      <td>0.1</td>\n",
       "      <td>1.5</td>\n",
       "      <td>-0.3</td>\n",
       "      <td>0.2</td>\n",
       "    </tr>\n",
       "    <tr>\n",
       "      <th>February</th>\n",
       "      <td>-0.4</td>\n",
       "      <td>0.9</td>\n",
       "      <td>0.0</td>\n",
       "      <td>0.7</td>\n",
       "      <td>-0.8</td>\n",
       "      <td>-0.7</td>\n",
       "      <td>-0.6</td>\n",
       "      <td>1.3</td>\n",
       "      <td>0.4</td>\n",
       "      <td>-0.3</td>\n",
       "      <td>...</td>\n",
       "      <td>-0.3</td>\n",
       "      <td>0.5</td>\n",
       "      <td>-1.4</td>\n",
       "      <td>-0.7</td>\n",
       "      <td>0.3</td>\n",
       "      <td>-0.4</td>\n",
       "      <td>0.0</td>\n",
       "      <td>1.8</td>\n",
       "      <td>-0.6</td>\n",
       "      <td>-0.1</td>\n",
       "    </tr>\n",
       "    <tr>\n",
       "      <th>March</th>\n",
       "      <td>-0.4</td>\n",
       "      <td>1.0</td>\n",
       "      <td>0.2</td>\n",
       "      <td>0.8</td>\n",
       "      <td>-0.9</td>\n",
       "      <td>-1.1</td>\n",
       "      <td>-0.5</td>\n",
       "      <td>1.3</td>\n",
       "      <td>0.4</td>\n",
       "      <td>-0.1</td>\n",
       "      <td>...</td>\n",
       "      <td>-0.3</td>\n",
       "      <td>0.7</td>\n",
       "      <td>-1.6</td>\n",
       "      <td>-0.9</td>\n",
       "      <td>0.3</td>\n",
       "      <td>-0.3</td>\n",
       "      <td>0.2</td>\n",
       "      <td>2.1</td>\n",
       "      <td>-0.7</td>\n",
       "      <td>-0.4</td>\n",
       "    </tr>\n",
       "    <tr>\n",
       "      <th>April</th>\n",
       "      <td>-0.4</td>\n",
       "      <td>1.2</td>\n",
       "      <td>0.1</td>\n",
       "      <td>0.8</td>\n",
       "      <td>-0.8</td>\n",
       "      <td>-1.4</td>\n",
       "      <td>-0.4</td>\n",
       "      <td>1.4</td>\n",
       "      <td>0.4</td>\n",
       "      <td>0.0</td>\n",
       "      <td>...</td>\n",
       "      <td>-0.4</td>\n",
       "      <td>1.0</td>\n",
       "      <td>-1.7</td>\n",
       "      <td>-1.1</td>\n",
       "      <td>0.2</td>\n",
       "      <td>-0.2</td>\n",
       "      <td>0.4</td>\n",
       "      <td>2.4</td>\n",
       "      <td>-0.7</td>\n",
       "      <td>-0.7</td>\n",
       "    </tr>\n",
       "    <tr>\n",
       "      <th>May</th>\n",
       "      <td>-0.6</td>\n",
       "      <td>1.0</td>\n",
       "      <td>0.0</td>\n",
       "      <td>0.8</td>\n",
       "      <td>-0.7</td>\n",
       "      <td>-1.7</td>\n",
       "      <td>-0.4</td>\n",
       "      <td>1.5</td>\n",
       "      <td>0.5</td>\n",
       "      <td>0.0</td>\n",
       "      <td>...</td>\n",
       "      <td>-0.6</td>\n",
       "      <td>1.3</td>\n",
       "      <td>-1.7</td>\n",
       "      <td>-1.1</td>\n",
       "      <td>0.0</td>\n",
       "      <td>-0.2</td>\n",
       "      <td>0.6</td>\n",
       "      <td>2.5</td>\n",
       "      <td>-0.7</td>\n",
       "      <td>-0.9</td>\n",
       "    </tr>\n",
       "    <tr>\n",
       "      <th>June</th>\n",
       "      <td>-0.8</td>\n",
       "      <td>0.8</td>\n",
       "      <td>0.1</td>\n",
       "      <td>0.8</td>\n",
       "      <td>-0.7</td>\n",
       "      <td>-1.5</td>\n",
       "      <td>-0.4</td>\n",
       "      <td>1.7</td>\n",
       "      <td>0.6</td>\n",
       "      <td>0.0</td>\n",
       "      <td>...</td>\n",
       "      <td>-0.7</td>\n",
       "      <td>1.6</td>\n",
       "      <td>-1.6</td>\n",
       "      <td>-1.0</td>\n",
       "      <td>-0.2</td>\n",
       "      <td>-0.3</td>\n",
       "      <td>0.7</td>\n",
       "      <td>2.6</td>\n",
       "      <td>-0.6</td>\n",
       "      <td>-1.0</td>\n",
       "    </tr>\n",
       "    <tr>\n",
       "      <th>July</th>\n",
       "      <td>-0.8</td>\n",
       "      <td>0.5</td>\n",
       "      <td>0.4</td>\n",
       "      <td>0.8</td>\n",
       "      <td>-0.7</td>\n",
       "      <td>-1.1</td>\n",
       "      <td>-0.2</td>\n",
       "      <td>1.8</td>\n",
       "      <td>0.6</td>\n",
       "      <td>-0.1</td>\n",
       "      <td>...</td>\n",
       "      <td>-0.8</td>\n",
       "      <td>1.5</td>\n",
       "      <td>-1.4</td>\n",
       "      <td>-0.8</td>\n",
       "      <td>-0.4</td>\n",
       "      <td>-0.4</td>\n",
       "      <td>0.6</td>\n",
       "      <td>2.5</td>\n",
       "      <td>-0.3</td>\n",
       "      <td>-0.9</td>\n",
       "    </tr>\n",
       "    <tr>\n",
       "      <th>August</th>\n",
       "      <td>-0.5</td>\n",
       "      <td>0.4</td>\n",
       "      <td>0.6</td>\n",
       "      <td>0.5</td>\n",
       "      <td>-0.6</td>\n",
       "      <td>-0.8</td>\n",
       "      <td>0.1</td>\n",
       "      <td>1.7</td>\n",
       "      <td>0.6</td>\n",
       "      <td>-0.1</td>\n",
       "      <td>...</td>\n",
       "      <td>-0.7</td>\n",
       "      <td>1.3</td>\n",
       "      <td>-1.1</td>\n",
       "      <td>-0.6</td>\n",
       "      <td>-0.3</td>\n",
       "      <td>-0.4</td>\n",
       "      <td>0.6</td>\n",
       "      <td>2.2</td>\n",
       "      <td>-0.1</td>\n",
       "      <td>-0.8</td>\n",
       "    </tr>\n",
       "    <tr>\n",
       "      <th>September</th>\n",
       "      <td>-0.2</td>\n",
       "      <td>0.3</td>\n",
       "      <td>0.6</td>\n",
       "      <td>0.0</td>\n",
       "      <td>-0.7</td>\n",
       "      <td>-0.6</td>\n",
       "      <td>0.4</td>\n",
       "      <td>1.3</td>\n",
       "      <td>0.5</td>\n",
       "      <td>-0.1</td>\n",
       "      <td>...</td>\n",
       "      <td>-0.5</td>\n",
       "      <td>0.9</td>\n",
       "      <td>-0.8</td>\n",
       "      <td>-0.5</td>\n",
       "      <td>-0.2</td>\n",
       "      <td>-0.2</td>\n",
       "      <td>0.6</td>\n",
       "      <td>1.7</td>\n",
       "      <td>0.1</td>\n",
       "      <td>-0.6</td>\n",
       "    </tr>\n",
       "    <tr>\n",
       "      <th>October</th>\n",
       "      <td>0.2</td>\n",
       "      <td>0.3</td>\n",
       "      <td>0.7</td>\n",
       "      <td>-0.4</td>\n",
       "      <td>-0.8</td>\n",
       "      <td>-0.5</td>\n",
       "      <td>0.7</td>\n",
       "      <td>0.9</td>\n",
       "      <td>0.3</td>\n",
       "      <td>0.0</td>\n",
       "      <td>...</td>\n",
       "      <td>-0.2</td>\n",
       "      <td>0.4</td>\n",
       "      <td>-0.6</td>\n",
       "      <td>-0.4</td>\n",
       "      <td>-0.2</td>\n",
       "      <td>0.1</td>\n",
       "      <td>0.8</td>\n",
       "      <td>1.0</td>\n",
       "      <td>0.3</td>\n",
       "      <td>-0.4</td>\n",
       "    </tr>\n",
       "    <tr>\n",
       "      <th>November</th>\n",
       "      <td>0.4</td>\n",
       "      <td>0.2</td>\n",
       "      <td>0.8</td>\n",
       "      <td>-0.5</td>\n",
       "      <td>-0.8</td>\n",
       "      <td>-0.5</td>\n",
       "      <td>0.9</td>\n",
       "      <td>0.7</td>\n",
       "      <td>0.2</td>\n",
       "      <td>0.0</td>\n",
       "      <td>...</td>\n",
       "      <td>0.1</td>\n",
       "      <td>-0.1</td>\n",
       "      <td>-0.5</td>\n",
       "      <td>-0.2</td>\n",
       "      <td>-0.3</td>\n",
       "      <td>0.3</td>\n",
       "      <td>1.0</td>\n",
       "      <td>0.5</td>\n",
       "      <td>0.4</td>\n",
       "      <td>-0.1</td>\n",
       "    </tr>\n",
       "    <tr>\n",
       "      <th>December</th>\n",
       "      <td>0.6</td>\n",
       "      <td>0.0</td>\n",
       "      <td>0.8</td>\n",
       "      <td>-0.5</td>\n",
       "      <td>-0.7</td>\n",
       "      <td>-0.5</td>\n",
       "      <td>1.1</td>\n",
       "      <td>0.6</td>\n",
       "      <td>-0.1</td>\n",
       "      <td>0.0</td>\n",
       "      <td>...</td>\n",
       "      <td>0.4</td>\n",
       "      <td>-0.6</td>\n",
       "      <td>-0.4</td>\n",
       "      <td>0.1</td>\n",
       "      <td>-0.3</td>\n",
       "      <td>0.2</td>\n",
       "      <td>1.2</td>\n",
       "      <td>0.0</td>\n",
       "      <td>0.4</td>\n",
       "      <td>0.1</td>\n",
       "    </tr>\n",
       "  </tbody>\n",
       "</table>\n",
       "<p>12 rows × 68 columns</p>\n",
       "</div>"
      ],
      "text/plain": [
       "Year       1950  1951  1952  1953  1954  1955  1956  1957  1958  1959  ...   \\\n",
       "Janauary   -0.5   0.7  -0.1   0.7  -0.6  -0.7  -0.6   1.3   0.6  -0.2  ...    \n",
       "February   -0.4   0.9   0.0   0.7  -0.8  -0.7  -0.6   1.3   0.4  -0.3  ...    \n",
       "March      -0.4   1.0   0.2   0.8  -0.9  -1.1  -0.5   1.3   0.4  -0.1  ...    \n",
       "April      -0.4   1.2   0.1   0.8  -0.8  -1.4  -0.4   1.4   0.4   0.0  ...    \n",
       "May        -0.6   1.0   0.0   0.8  -0.7  -1.7  -0.4   1.5   0.5   0.0  ...    \n",
       "June       -0.8   0.8   0.1   0.8  -0.7  -1.5  -0.4   1.7   0.6   0.0  ...    \n",
       "July       -0.8   0.5   0.4   0.8  -0.7  -1.1  -0.2   1.8   0.6  -0.1  ...    \n",
       "August     -0.5   0.4   0.6   0.5  -0.6  -0.8   0.1   1.7   0.6  -0.1  ...    \n",
       "September  -0.2   0.3   0.6   0.0  -0.7  -0.6   0.4   1.3   0.5  -0.1  ...    \n",
       "October     0.2   0.3   0.7  -0.4  -0.8  -0.5   0.7   0.9   0.3   0.0  ...    \n",
       "November    0.4   0.2   0.8  -0.5  -0.8  -0.5   0.9   0.7   0.2   0.0  ...    \n",
       "December    0.6   0.0   0.8  -0.5  -0.7  -0.5   1.1   0.6  -0.1   0.0  ...    \n",
       "\n",
       "Year       2008  2009  2010  2011  2012  2013  2014  2015  2016  2017  \n",
       "Janauary   -0.4   0.5  -1.0  -0.5   0.3  -0.4   0.1   1.5  -0.3   0.2  \n",
       "February   -0.3   0.5  -1.4  -0.7   0.3  -0.4   0.0   1.8  -0.6  -0.1  \n",
       "March      -0.3   0.7  -1.6  -0.9   0.3  -0.3   0.2   2.1  -0.7  -0.4  \n",
       "April      -0.4   1.0  -1.7  -1.1   0.2  -0.2   0.4   2.4  -0.7  -0.7  \n",
       "May        -0.6   1.3  -1.7  -1.1   0.0  -0.2   0.6   2.5  -0.7  -0.9  \n",
       "June       -0.7   1.6  -1.6  -1.0  -0.2  -0.3   0.7   2.6  -0.6  -1.0  \n",
       "July       -0.8   1.5  -1.4  -0.8  -0.4  -0.4   0.6   2.5  -0.3  -0.9  \n",
       "August     -0.7   1.3  -1.1  -0.6  -0.3  -0.4   0.6   2.2  -0.1  -0.8  \n",
       "September  -0.5   0.9  -0.8  -0.5  -0.2  -0.2   0.6   1.7   0.1  -0.6  \n",
       "October    -0.2   0.4  -0.6  -0.4  -0.2   0.1   0.8   1.0   0.3  -0.4  \n",
       "November    0.1  -0.1  -0.5  -0.2  -0.3   0.3   1.0   0.5   0.4  -0.1  \n",
       "December    0.4  -0.6  -0.4   0.1  -0.3   0.2   1.2   0.0   0.4   0.1  \n",
       "\n",
       "[12 rows x 68 columns]"
      ]
     },
     "execution_count": 8,
     "metadata": {},
     "output_type": "execute_result"
    }
   ],
   "source": [
    "data1 = data.transpose()\n",
    "data1"
   ]
  },
  {
   "cell_type": "markdown",
   "metadata": {},
   "source": [
    "### Generate the date_range series "
   ]
  },
  {
   "cell_type": "code",
   "execution_count": 9,
   "metadata": {},
   "outputs": [
    {
     "data": {
      "text/plain": [
       "DatetimeIndex(['1950-01-01', '1950-02-01', '1950-03-01', '1950-04-01',\n",
       "               '1950-05-01', '1950-06-01', '1950-07-01', '1950-08-01',\n",
       "               '1950-09-01', '1950-10-01',\n",
       "               ...\n",
       "               '2017-03-01', '2017-04-01', '2017-05-01', '2017-06-01',\n",
       "               '2017-07-01', '2017-08-01', '2017-09-01', '2017-10-01',\n",
       "               '2017-11-01', '2017-12-01'],\n",
       "              dtype='datetime64[ns]', length=816, freq='MS')"
      ]
     },
     "execution_count": 9,
     "metadata": {},
     "output_type": "execute_result"
    }
   ],
   "source": [
    "dates = pd.date_range(start = '1950-01', freq = 'MS', periods = len(data1.columns)*12)\n",
    "dates"
   ]
  },
  {
   "cell_type": "markdown",
   "metadata": {},
   "source": [
    "### Convert the dataframe into matrix "
   ]
  },
  {
   "cell_type": "code",
   "execution_count": 10,
   "metadata": {},
   "outputs": [],
   "source": [
    "data_np = data1.transpose().as_matrix()"
   ]
  },
  {
   "cell_type": "code",
   "execution_count": 11,
   "metadata": {},
   "outputs": [
    {
     "data": {
      "text/plain": [
       "(68, 12)"
      ]
     },
     "execution_count": 11,
     "metadata": {},
     "output_type": "execute_result"
    }
   ],
   "source": [
    "shape = data_np.shape\n",
    "shape"
   ]
  },
  {
   "cell_type": "code",
   "execution_count": 12,
   "metadata": {},
   "outputs": [
    {
     "data": {
      "text/plain": [
       "array([[-0.5, -0.4, -0.4, -0.4, -0.6, -0.8, -0.8, -0.5, -0.2,  0.2,  0.4,\n",
       "         0.6],\n",
       "       [ 0.7,  0.9,  1. ,  1.2,  1. ,  0.8,  0.5,  0.4,  0.3,  0.3,  0.2,\n",
       "         0. ],\n",
       "       [-0.1,  0. ,  0.2,  0.1,  0. ,  0.1,  0.4,  0.6,  0.6,  0.7,  0.8,\n",
       "         0.8],\n",
       "       [ 0.7,  0.7,  0.8,  0.8,  0.8,  0.8,  0.8,  0.5,  0. , -0.4, -0.5,\n",
       "        -0.5],\n",
       "       [-0.6, -0.8, -0.9, -0.8, -0.7, -0.7, -0.7, -0.6, -0.7, -0.8, -0.8,\n",
       "        -0.7],\n",
       "       [-0.7, -0.7, -1.1, -1.4, -1.7, -1.5, -1.1, -0.8, -0.6, -0.5, -0.5,\n",
       "        -0.5],\n",
       "       [-0.6, -0.6, -0.5, -0.4, -0.4, -0.4, -0.2,  0.1,  0.4,  0.7,  0.9,\n",
       "         1.1],\n",
       "       [ 1.3,  1.3,  1.3,  1.4,  1.5,  1.7,  1.8,  1.7,  1.3,  0.9,  0.7,\n",
       "         0.6],\n",
       "       [ 0.6,  0.4,  0.4,  0.4,  0.5,  0.6,  0.6,  0.6,  0.5,  0.3,  0.2,\n",
       "        -0.1],\n",
       "       [-0.2, -0.3, -0.1,  0. ,  0. ,  0. , -0.1, -0.1, -0.1,  0. ,  0. ,\n",
       "         0. ],\n",
       "       [ 0.1,  0.2,  0.3,  0.2,  0.1,  0.1,  0. ,  0. ,  0. ,  0.1,  0.2,\n",
       "         0.3],\n",
       "       [ 0.1, -0.1, -0.3, -0.3, -0.2, -0.2, -0.2, -0.2, -0.2, -0.3, -0.3,\n",
       "        -0.2],\n",
       "       [ 0. , -0.1, -0.1, -0.2, -0.3, -0.4, -0.4, -0.2,  0.2,  0.3,  0.3,\n",
       "         0.5],\n",
       "       [ 0.9,  1.1,  1.2,  1.3,  1.4,  1.3,  1.1,  0.6,  0.1, -0.3, -0.6,\n",
       "        -0.6],\n",
       "       [-0.6, -0.7, -0.8, -0.8, -0.8, -0.8, -0.6, -0.3, -0.1,  0.2,  0.5,\n",
       "         0.8],\n",
       "       [ 1.2,  1.5,  1.9,  2. ,  2. ,  1.7,  1.4,  1.2,  1. ,  0.7,  0.4,\n",
       "         0.2],\n",
       "       [ 0.2,  0.1, -0.1, -0.1, -0.2, -0.3, -0.4, -0.5, -0.5, -0.4, -0.2,\n",
       "         0. ],\n",
       "       [ 0. , -0.2, -0.3, -0.4, -0.3, -0.4, -0.6, -0.7, -0.6, -0.4,  0. ,\n",
       "         0.3],\n",
       "       [ 0.6,  0.5,  0.4,  0.5,  0.7,  1. ,  1.1,  1.1,  0.9,  0.8,  0.6,\n",
       "         0.4],\n",
       "       [ 0.4,  0.5,  0.8,  0.9,  0.8,  0.6,  0.5,  0.3,  0.3,  0.2,  0. ,\n",
       "        -0.3],\n",
       "       [-0.6, -0.8, -0.8, -0.7, -0.9, -1.1, -1.4, -1.4, -1.1, -0.8, -0.7,\n",
       "        -0.7],\n",
       "       [-0.8, -0.8, -0.8, -0.9, -1. , -0.9, -0.7, -0.4,  0.1,  0.4,  0.7,\n",
       "         0.9],\n",
       "       [ 1.1,  1.4,  1.6,  1.8,  2.1,  2.1,  1.8,  1.2,  0.5, -0.1, -0.5,\n",
       "        -0.9],\n",
       "       [-1.1, -1.3, -1.5, -1.7, -1.9, -2. , -1.8, -1.6, -1.2, -1. , -0.9,\n",
       "        -0.8],\n",
       "       [-0.5, -0.4, -0.4, -0.6, -0.8, -0.6, -0.5, -0.6, -0.7, -0.7, -0.8,\n",
       "        -1. ],\n",
       "       [-1.1, -1.2, -1.4, -1.4, -1.6, -1.7, -1.6, -1.2, -0.7, -0.5, -0.3,\n",
       "         0. ],\n",
       "       [ 0.2,  0.4,  0.6,  0.8,  0.9,  0.8,  0.7,  0.6,  0.3,  0.2,  0.2,\n",
       "         0.3],\n",
       "       [ 0.4,  0.4,  0.6,  0.7,  0.8,  0.8,  0.7,  0.4,  0.1, -0.2, -0.3,\n",
       "        -0.3],\n",
       "       [-0.4, -0.4, -0.4, -0.3, -0.1,  0. ,  0. ,  0.1,  0.2,  0.3,  0.2,\n",
       "         0. ],\n",
       "       [ 0. ,  0.2,  0.3,  0.5,  0.5,  0.6,  0.6,  0.5,  0.3,  0.4,  0.5,\n",
       "         0.5],\n",
       "       [ 0.3,  0. , -0.1,  0. ,  0.1,  0. , -0.3, -0.5, -0.5, -0.4, -0.3,\n",
       "        -0.3],\n",
       "       [-0.3, -0.2, -0.2, -0.1, -0.2, -0.1,  0. ,  0.1,  0.2,  0.5,  0.7,\n",
       "         0.7],\n",
       "       [ 0.8,  1.1,  1.6,  2. ,  2.2,  2.2,  2.2,  1.9,  1.5,  1.3,  1.1,\n",
       "         0.7],\n",
       "       [ 0.3, -0.1, -0.5, -0.8, -1. , -0.9, -0.6, -0.4, -0.3, -0.4, -0.5,\n",
       "        -0.4],\n",
       "       [-0.3, -0.2, -0.2, -0.6, -0.9, -1.1, -1. , -0.8, -0.8, -0.8, -0.8,\n",
       "        -0.6],\n",
       "       [-0.5, -0.5, -0.4, -0.3, -0.3, -0.4, -0.5, -0.5, -0.3, -0.2, -0.1,\n",
       "         0. ],\n",
       "       [ 0.2,  0.4,  0.7,  0.9,  1.1,  1.2,  1.2,  1.2,  1.1,  0.9,  1. ,\n",
       "         1.2],\n",
       "       [ 1.5,  1.7,  1.6,  1.5,  1.3,  1.1,  0.8,  0.5,  0.1, -0.3, -0.9,\n",
       "        -1.3],\n",
       "       [-1.3, -1.1, -1.2, -1.5, -1.8, -1.8, -1.7, -1.4, -1.1, -0.8, -0.6,\n",
       "        -0.4],\n",
       "       [-0.3, -0.3, -0.2, -0.2, -0.2, -0.1,  0.1,  0.2,  0.3,  0.3,  0.3,\n",
       "         0.3],\n",
       "       [ 0.3,  0.4,  0.4,  0.3,  0.4,  0.4,  0.4,  0.3,  0.2,  0.3,  0.5,\n",
       "         0.6],\n",
       "       [ 0.7,  0.6,  0.6,  0.8,  1.2,  1.5,  1.7,  1.6,  1.5,  1.3,  1.1,\n",
       "         0.7],\n",
       "       [ 0.4,  0.1, -0.1, -0.2, -0.3, -0.1,  0.1,  0.3,  0.5,  0.7,  0.7,\n",
       "         0.6],\n",
       "       [ 0.3,  0.3,  0.2,  0.1,  0. ,  0.1,  0.1,  0.1,  0.2,  0.3,  0.4,\n",
       "         0.4],\n",
       "       [ 0.4,  0.4,  0.6,  0.7,  1. ,  1.1,  1. ,  0.7,  0.5,  0.3,  0.1,\n",
       "         0. ],\n",
       "       [-0.2, -0.5, -0.8, -1. , -1. , -1. , -0.9, -0.8, -0.6, -0.4, -0.3,\n",
       "        -0.3],\n",
       "       [-0.3, -0.3, -0.4, -0.4, -0.4, -0.5, -0.5, -0.4, -0.1,  0.3,  0.8,\n",
       "         1.2],\n",
       "       [ 1.6,  1.9,  2.1,  2.3,  2.4,  2.4,  2.2,  1.9,  1.4,  1. ,  0.5,\n",
       "        -0.1],\n",
       "       [-0.8, -1.1, -1.3, -1.4, -1.5, -1.6, -1.5, -1.3, -1.1, -1. , -1. ,\n",
       "        -1. ],\n",
       "       [-1.1, -1.1, -1.2, -1.3, -1.5, -1.7, -1.7, -1.4, -1.1, -0.8, -0.7,\n",
       "        -0.6],\n",
       "       [-0.6, -0.5, -0.5, -0.6, -0.7, -0.7, -0.7, -0.5, -0.4, -0.3, -0.3,\n",
       "        -0.1],\n",
       "       [-0.1, -0.1, -0.2, -0.3, -0.3, -0.3, -0.1,  0. ,  0.1,  0.2,  0.4,\n",
       "         0.7],\n",
       "       [ 0.8,  0.9,  1. ,  1.2,  1.3,  1.1,  0.9,  0.6,  0.4,  0. , -0.3,\n",
       "        -0.2],\n",
       "       [ 0.1,  0.2,  0.3,  0.3,  0.4,  0.4,  0.4,  0.3,  0.2,  0.2,  0.2,\n",
       "         0.3],\n",
       "       [ 0.5,  0.6,  0.7,  0.7,  0.7,  0.7,  0.6,  0.6,  0.4,  0.4,  0.3,\n",
       "         0.1],\n",
       "       [-0.1, -0.1, -0.1, -0.3, -0.6, -0.8, -0.8, -0.7, -0.5, -0.3,  0. ,\n",
       "         0. ],\n",
       "       [ 0.1,  0.3,  0.5,  0.7,  0.9,  0.9,  0.7,  0.3,  0. , -0.2, -0.3,\n",
       "        -0.4],\n",
       "       [-0.5, -0.8, -1.1, -1.4, -1.5, -1.6, -1.6, -1.4, -1.2, -0.9, -0.8,\n",
       "        -0.5],\n",
       "       [-0.4, -0.3, -0.3, -0.4, -0.6, -0.7, -0.8, -0.7, -0.5, -0.2,  0.1,\n",
       "         0.4],\n",
       "       [ 0.5,  0.5,  0.7,  1. ,  1.3,  1.6,  1.5,  1.3,  0.9,  0.4, -0.1,\n",
       "        -0.6],\n",
       "       [-1. , -1.4, -1.6, -1.7, -1.7, -1.6, -1.4, -1.1, -0.8, -0.6, -0.5,\n",
       "        -0.4],\n",
       "       [-0.5, -0.7, -0.9, -1.1, -1.1, -1. , -0.8, -0.6, -0.5, -0.4, -0.2,\n",
       "         0.1],\n",
       "       [ 0.3,  0.3,  0.3,  0.2,  0. , -0.2, -0.4, -0.3, -0.2, -0.2, -0.3,\n",
       "        -0.3],\n",
       "       [-0.4, -0.4, -0.3, -0.2, -0.2, -0.3, -0.4, -0.4, -0.2,  0.1,  0.3,\n",
       "         0.2],\n",
       "       [ 0.1,  0. ,  0.2,  0.4,  0.6,  0.7,  0.6,  0.6,  0.6,  0.8,  1. ,\n",
       "         1.2],\n",
       "       [ 1.5,  1.8,  2.1,  2.4,  2.5,  2.6,  2.5,  2.2,  1.7,  1. ,  0.5,\n",
       "         0. ],\n",
       "       [-0.3, -0.6, -0.7, -0.7, -0.7, -0.6, -0.3, -0.1,  0.1,  0.3,  0.4,\n",
       "         0.4],\n",
       "       [ 0.2, -0.1, -0.4, -0.7, -0.9, -1. , -0.9, -0.8, -0.6, -0.4, -0.1,\n",
       "         0.1]])"
      ]
     },
     "execution_count": 12,
     "metadata": {},
     "output_type": "execute_result"
    }
   ],
   "source": [
    "data_np"
   ]
  },
  {
   "cell_type": "markdown",
   "metadata": {},
   "source": [
    "### Let's convert the matrix size of 68 x 12 into column vector "
   ]
  },
  {
   "cell_type": "code",
   "execution_count": 13,
   "metadata": {},
   "outputs": [],
   "source": [
    "data_np = data_np.reshape((shape[0] * shape[1], 1))"
   ]
  },
  {
   "cell_type": "code",
   "execution_count": 14,
   "metadata": {},
   "outputs": [
    {
     "data": {
      "text/plain": [
       "(816, 1)"
      ]
     },
     "execution_count": 14,
     "metadata": {},
     "output_type": "execute_result"
    }
   ],
   "source": [
    "data_np.shape"
   ]
  },
  {
   "cell_type": "markdown",
   "metadata": {},
   "source": [
    "### Convert the data_np into dataframe\n",
    "* Here we are merging two series data i.e data_np and dates series into dataframe.\n",
    "* As this dataset belongs to timeseries concept, we apply dates series as index to our dataframe."
   ]
  },
  {
   "cell_type": "code",
   "execution_count": 15,
   "metadata": {},
   "outputs": [],
   "source": [
    "df = pd.DataFrame({'Mean' : data_np[:,0]})\n",
    "df.set_index(dates, inplace = True)"
   ]
  },
  {
   "cell_type": "code",
   "execution_count": 16,
   "metadata": {},
   "outputs": [
    {
     "data": {
      "text/html": [
       "<div>\n",
       "<style scoped>\n",
       "    .dataframe tbody tr th:only-of-type {\n",
       "        vertical-align: middle;\n",
       "    }\n",
       "\n",
       "    .dataframe tbody tr th {\n",
       "        vertical-align: top;\n",
       "    }\n",
       "\n",
       "    .dataframe thead th {\n",
       "        text-align: right;\n",
       "    }\n",
       "</style>\n",
       "<table border=\"1\" class=\"dataframe\">\n",
       "  <thead>\n",
       "    <tr style=\"text-align: right;\">\n",
       "      <th></th>\n",
       "      <th>Mean</th>\n",
       "    </tr>\n",
       "  </thead>\n",
       "  <tbody>\n",
       "    <tr>\n",
       "      <th>1950-01-01</th>\n",
       "      <td>-0.5</td>\n",
       "    </tr>\n",
       "    <tr>\n",
       "      <th>1950-02-01</th>\n",
       "      <td>-0.4</td>\n",
       "    </tr>\n",
       "    <tr>\n",
       "      <th>1950-03-01</th>\n",
       "      <td>-0.4</td>\n",
       "    </tr>\n",
       "    <tr>\n",
       "      <th>1950-04-01</th>\n",
       "      <td>-0.4</td>\n",
       "    </tr>\n",
       "    <tr>\n",
       "      <th>1950-05-01</th>\n",
       "      <td>-0.6</td>\n",
       "    </tr>\n",
       "  </tbody>\n",
       "</table>\n",
       "</div>"
      ],
      "text/plain": [
       "            Mean\n",
       "1950-01-01  -0.5\n",
       "1950-02-01  -0.4\n",
       "1950-03-01  -0.4\n",
       "1950-04-01  -0.4\n",
       "1950-05-01  -0.6"
      ]
     },
     "execution_count": 16,
     "metadata": {},
     "output_type": "execute_result"
    }
   ],
   "source": [
    "df.head()"
   ]
  },
  {
   "cell_type": "markdown",
   "metadata": {},
   "source": [
    "### Now Let's plot how our data looks like"
   ]
  },
  {
   "cell_type": "code",
   "execution_count": 17,
   "metadata": {},
   "outputs": [
    {
     "data": {
      "text/plain": [
       "Text(0,0.5,'Mean across Month')"
      ]
     },
     "execution_count": 17,
     "metadata": {},
     "output_type": "execute_result"
    },
    {
     "data": {
      "image/png": "[encoded data removed]",
      "text/plain": [
       "<Figure size 1080x360 with 1 Axes>"
      ]
     },
     "metadata": {},
     "output_type": "display_data"
    }
   ],
   "source": [
    "plt.figure(figsize = (15,5))\n",
    "plt.plot(df.index, df['Mean'])\n",
    "plt.title('Yearly vs Monthly Mean')\n",
    "plt.xlabel('Year')\n",
    "plt.ylabel('Mean across Month')"
   ]
  },
  {
   "cell_type": "code",
   "execution_count": 18,
   "metadata": {},
   "outputs": [],
   "source": [
    "dataset = df.values"
   ]
  },
  {
   "cell_type": "code",
   "execution_count": 19,
   "metadata": {},
   "outputs": [
    {
     "data": {
      "text/plain": [
       "(816, 1)"
      ]
     },
     "execution_count": 19,
     "metadata": {},
     "output_type": "execute_result"
    }
   ],
   "source": [
    "dataset.shape"
   ]
  },
  {
   "cell_type": "markdown",
   "metadata": {},
   "source": [
    "### Here we are splitting the data into train and test set"
   ]
  },
  {
   "cell_type": "code",
   "execution_count": 20,
   "metadata": {},
   "outputs": [],
   "source": [
    "train = dataset[0:696,:]\n",
    "test = dataset[696:,:]"
   ]
  },
  {
   "cell_type": "code",
   "execution_count": 21,
   "metadata": {},
   "outputs": [
    {
     "name": "stdout",
     "output_type": "stream",
     "text": [
      "Original data shape: (816, 1)\n",
      "Train shape: (696, 1)\n",
      "Test shape: (120, 1)\n"
     ]
    }
   ],
   "source": [
    "print(\"Original data shape:\",dataset.shape)\n",
    "print(\"Train shape:\",train.shape)\n",
    "print(\"Test shape:\",test.shape)"
   ]
  },
  {
   "cell_type": "code",
   "execution_count": 22,
   "metadata": {},
   "outputs": [
    {
     "data": {
      "text/plain": [
       "(816, 1)"
      ]
     },
     "execution_count": 22,
     "metadata": {},
     "output_type": "execute_result"
    }
   ],
   "source": [
    "# Converting the data into MinMax Scaler because to avoid any outliers present in our dataset\n",
    "scaler = MinMaxScaler(feature_range = (0,1))\n",
    "scaled_data = scaler.fit_transform(dataset)\n",
    "scaled_data.shape"
   ]
  },
  {
   "cell_type": "markdown",
   "metadata": {},
   "source": [
    "### As we know we use LSTM model to our data then we follow Imporvements over RNN principle\n",
    "* To see more inbrief Click [here](https://www.analyticsvidhya.com/blog/2017/12/fundamentals-of-deep-learning-introduction-to-lstm/)"
   ]
  },
  {
   "cell_type": "code",
   "execution_count": 23,
   "metadata": {},
   "outputs": [],
   "source": [
    "x_train, y_train = [], []\n",
    "for i in range(60,len(train)):\n",
    "    x_train.append(scaled_data[i-60:i,0])\n",
    "    y_train.append(scaled_data[i,0])\n",
    "x_train, y_train = np.array(x_train), np.array(y_train)"
   ]
  },
  {
   "cell_type": "code",
   "execution_count": 24,
   "metadata": {},
   "outputs": [
    {
     "data": {
      "text/plain": [
       "(636, 60)"
      ]
     },
     "execution_count": 24,
     "metadata": {},
     "output_type": "execute_result"
    }
   ],
   "source": [
    "#x_train shape\n",
    "x_train.shape"
   ]
  },
  {
   "cell_type": "code",
   "execution_count": 25,
   "metadata": {},
   "outputs": [
    {
     "data": {
      "text/plain": [
       "(636,)"
      ]
     },
     "execution_count": 25,
     "metadata": {},
     "output_type": "execute_result"
    }
   ],
   "source": [
    "#y_train shape\n",
    "y_train.shape"
   ]
  },
  {
   "cell_type": "code",
   "execution_count": 26,
   "metadata": {},
   "outputs": [],
   "source": [
    "x_train = np.reshape(x_train, (x_train.shape[0],x_train.shape[1],1))"
   ]
  },
  {
   "cell_type": "code",
   "execution_count": 27,
   "metadata": {},
   "outputs": [
    {
     "data": {
      "text/plain": [
       "(636, 60, 1)"
      ]
     },
     "execution_count": 27,
     "metadata": {},
     "output_type": "execute_result"
    }
   ],
   "source": [
    "x_train.shape"
   ]
  },
  {
   "cell_type": "code",
   "execution_count": 28,
   "metadata": {},
   "outputs": [],
   "source": [
    " # Creating and fitting the model\n",
    "\n",
    "model = Sequential()\n",
    "model.add(LSTM(units = 50, return_sequences = True, input_shape = (x_train.shape[1],1)))\n",
    "model.add(LSTM(units = 50))\n",
    "model.add(Dense(1))"
   ]
  },
  {
   "cell_type": "code",
   "execution_count": 29,
   "metadata": {},
   "outputs": [
    {
     "name": "stdout",
     "output_type": "stream",
     "text": [
      "Epoch 1/10\n",
      " - 46s - loss: 0.0137\n",
      "Epoch 2/10\n",
      " - 41s - loss: 0.0040\n",
      "Epoch 3/10\n",
      " - 43s - loss: 0.0026\n",
      "Epoch 4/10\n",
      " - 40s - loss: 0.0014\n",
      "Epoch 5/10\n",
      " - 40s - loss: 0.0011\n",
      "Epoch 6/10\n",
      " - 40s - loss: 0.0011\n",
      "Epoch 7/10\n",
      " - 40s - loss: 0.0010\n",
      "Epoch 8/10\n",
      " - 40s - loss: 0.0011\n",
      "Epoch 9/10\n",
      " - 40s - loss: 9.7459e-04\n",
      "Epoch 10/10\n",
      " - 40s - loss: 9.7957e-04\n"
     ]
    },
    {
     "data": {
      "text/plain": [
       "<keras.callbacks.History at 0x9b05cd4898>"
      ]
     },
     "execution_count": 29,
     "metadata": {},
     "output_type": "execute_result"
    }
   ],
   "source": [
    "model.compile(loss = 'mean_squared_error', optimizer = 'adam')\n",
    "model.fit(x_train, y_train, epochs=10, batch_size = 1, verbose = 2)"
   ]
  },
  {
   "cell_type": "code",
   "execution_count": 30,
   "metadata": {},
   "outputs": [],
   "source": [
    "# Now Let's perform same operations that are done on train set\n",
    "inputs = df[len(df) - len(test) - 60:].values\n",
    "inputs = inputs.reshape(-1,1)\n",
    "inputs = scaler.transform(inputs)"
   ]
  },
  {
   "cell_type": "code",
   "execution_count": 31,
   "metadata": {},
   "outputs": [],
   "source": [
    "X_test = []\n",
    "for i in range(60,inputs.shape[0]):\n",
    "    X_test.append(inputs[i-60:i,0])\n",
    "X_test = np.array(X_test)"
   ]
  },
  {
   "cell_type": "code",
   "execution_count": 32,
   "metadata": {},
   "outputs": [],
   "source": [
    "X_test = np.reshape(X_test, (X_test.shape[0],X_test.shape[1],1))\n",
    "Mean = model.predict(X_test)\n",
    "Mean1 = scaler.inverse_transform(Mean)"
   ]
  },
  {
   "cell_type": "code",
   "execution_count": 33,
   "metadata": {},
   "outputs": [
    {
     "data": {
      "text/plain": [
       "0.11409219679563656"
      ]
     },
     "execution_count": 33,
     "metadata": {},
     "output_type": "execute_result"
    }
   ],
   "source": [
    "rms=np.sqrt(np.mean(np.power((test-Mean1),2)))\n",
    "rms"
   ]
  },
  {
   "cell_type": "code",
   "execution_count": 34,
   "metadata": {},
   "outputs": [
    {
     "data": {
      "text/plain": [
       "Text(0.5,1,'Forecasting on Actual data')"
      ]
     },
     "execution_count": 34,
     "metadata": {},
     "output_type": "execute_result"
    },
    {
     "data": {
      "image/png": "[encoded data removed]",
      "text/plain": [
       "<Figure size 1080x360 with 1 Axes>"
      ]
     },
     "metadata": {},
     "output_type": "display_data"
    }
   ],
   "source": [
    "#plotting the train, test and forecast data\n",
    "train = df[:696]\n",
    "test = df[696:]\n",
    "test['Predictions'] = Mean1\n",
    "\n",
    "plt.figure(figsize=(15,5))\n",
    "plt.plot(train['Mean'])\n",
    "plt.plot(test['Mean'], color = 'black')\n",
    "plt.plot(test['Predictions'], color = 'orange')\n",
    "plt.xlabel('Years')\n",
    "plt.ylabel('Mean')\n",
    "plt.title('Forecasting on Actual data')\n"
   ]
  },
  {
   "cell_type": "code",
   "execution_count": 35,
   "metadata": {},
   "outputs": [],
   "source": [
    "# Here we are taking steps as 2, means we have taken test size as 120 that is step-1 and steps=2 \n",
    "#means taking 120 test values and 120 future values i.e next 10 year values from test data\n",
    "trainpred = model.predict(X_test,steps=2)"
   ]
  },
  {
   "cell_type": "code",
   "execution_count": 36,
   "metadata": {},
   "outputs": [
    {
     "data": {
      "text/plain": [
       "(240, 1)"
      ]
     },
     "execution_count": 36,
     "metadata": {},
     "output_type": "execute_result"
    }
   ],
   "source": [
    "trainpred.shape"
   ]
  },
  {
   "cell_type": "code",
   "execution_count": 1,
   "metadata": {},
   "outputs": [],
   "source": [
    "#trainpred"
   ]
  },
  {
   "cell_type": "code",
   "execution_count": 37,
   "metadata": {},
   "outputs": [],
   "source": [
    "pred = scaler.inverse_transform(trainpred)"
   ]
  },
  {
   "cell_type": "code",
   "execution_count": 38,
   "metadata": {},
   "outputs": [
    {
     "data": {
      "text/plain": [
       "array([[-0.30797675],\n",
       "       [-0.32348582],\n",
       "       [-0.23456538],\n",
       "       [-0.28430969],\n",
       "       [-0.44652319],\n",
       "       [-0.68863273],\n",
       "       [-0.70321208],\n",
       "       [-0.80344605],\n",
       "       [-0.6006459 ],\n",
       "       [-0.34957871],\n",
       "       [-0.00185518],\n",
       "       [ 0.28722697],\n",
       "       [ 0.5749976 ],\n",
       "       [ 0.51443315],\n",
       "       [ 0.46349242],\n",
       "       [ 0.87143564],\n",
       "       [ 1.21683323],\n",
       "       [ 1.46062243],\n",
       "       [ 1.75970602],\n",
       "       [ 1.25301909],\n",
       "       [ 1.06083488],\n",
       "       [ 0.55151343],\n",
       "       [ 0.00479125],\n",
       "       [-0.42584747]], dtype=float32)"
      ]
     },
     "execution_count": 38,
     "metadata": {},
     "output_type": "execute_result"
    }
   ],
   "source": [
    " # Total predicted values are 240, but now I'm printing only first 24 values\n",
    "pred[0:24] "
   ]
  },
  {
   "cell_type": "code",
   "execution_count": 39,
   "metadata": {},
   "outputs": [
    {
     "data": {
      "text/html": [
       "<div>\n",
       "<style scoped>\n",
       "    .dataframe tbody tr th:only-of-type {\n",
       "        vertical-align: middle;\n",
       "    }\n",
       "\n",
       "    .dataframe tbody tr th {\n",
       "        vertical-align: top;\n",
       "    }\n",
       "\n",
       "    .dataframe thead th {\n",
       "        text-align: right;\n",
       "    }\n",
       "</style>\n",
       "<table border=\"1\" class=\"dataframe\">\n",
       "  <thead>\n",
       "    <tr style=\"text-align: right;\">\n",
       "      <th></th>\n",
       "      <th>Mean</th>\n",
       "      <th>Predictions</th>\n",
       "    </tr>\n",
       "  </thead>\n",
       "  <tbody>\n",
       "    <tr>\n",
       "      <th>2008-01-01</th>\n",
       "      <td>-0.4</td>\n",
       "      <td>-0.307977</td>\n",
       "    </tr>\n",
       "    <tr>\n",
       "      <th>2008-02-01</th>\n",
       "      <td>-0.3</td>\n",
       "      <td>-0.323486</td>\n",
       "    </tr>\n",
       "    <tr>\n",
       "      <th>2008-03-01</th>\n",
       "      <td>-0.3</td>\n",
       "      <td>-0.234565</td>\n",
       "    </tr>\n",
       "    <tr>\n",
       "      <th>2008-04-01</th>\n",
       "      <td>-0.4</td>\n",
       "      <td>-0.284310</td>\n",
       "    </tr>\n",
       "    <tr>\n",
       "      <th>2008-05-01</th>\n",
       "      <td>-0.6</td>\n",
       "      <td>-0.446523</td>\n",
       "    </tr>\n",
       "  </tbody>\n",
       "</table>\n",
       "</div>"
      ],
      "text/plain": [
       "            Mean  Predictions\n",
       "2008-01-01  -0.4    -0.307977\n",
       "2008-02-01  -0.3    -0.323486\n",
       "2008-03-01  -0.3    -0.234565\n",
       "2008-04-01  -0.4    -0.284310\n",
       "2008-05-01  -0.6    -0.446523"
      ]
     },
     "execution_count": 39,
     "metadata": {},
     "output_type": "execute_result"
    }
   ],
   "source": [
    "test.head()"
   ]
  },
  {
   "cell_type": "code",
   "execution_count": 41,
   "metadata": {},
   "outputs": [
    {
     "data": {
      "text/html": [
       "<div>\n",
       "<style scoped>\n",
       "    .dataframe tbody tr th:only-of-type {\n",
       "        vertical-align: middle;\n",
       "    }\n",
       "\n",
       "    .dataframe tbody tr th {\n",
       "        vertical-align: top;\n",
       "    }\n",
       "\n",
       "    .dataframe thead th {\n",
       "        text-align: right;\n",
       "    }\n",
       "</style>\n",
       "<table border=\"1\" class=\"dataframe\">\n",
       "  <thead>\n",
       "    <tr style=\"text-align: right;\">\n",
       "      <th></th>\n",
       "      <th>Mean</th>\n",
       "      <th>Predictions</th>\n",
       "    </tr>\n",
       "  </thead>\n",
       "  <tbody>\n",
       "    <tr>\n",
       "      <th>2017-01-01</th>\n",
       "      <td>0.2</td>\n",
       "      <td>0.355351</td>\n",
       "    </tr>\n",
       "    <tr>\n",
       "      <th>2017-02-01</th>\n",
       "      <td>-0.1</td>\n",
       "      <td>0.023194</td>\n",
       "    </tr>\n",
       "    <tr>\n",
       "      <th>2017-03-01</th>\n",
       "      <td>-0.4</td>\n",
       "      <td>-0.301900</td>\n",
       "    </tr>\n",
       "    <tr>\n",
       "      <th>2017-04-01</th>\n",
       "      <td>-0.7</td>\n",
       "      <td>-0.558783</td>\n",
       "    </tr>\n",
       "    <tr>\n",
       "      <th>2017-05-01</th>\n",
       "      <td>-0.9</td>\n",
       "      <td>-0.840018</td>\n",
       "    </tr>\n",
       "    <tr>\n",
       "      <th>2017-06-01</th>\n",
       "      <td>-1.0</td>\n",
       "      <td>-0.966370</td>\n",
       "    </tr>\n",
       "    <tr>\n",
       "      <th>2017-07-01</th>\n",
       "      <td>-0.9</td>\n",
       "      <td>-1.008473</td>\n",
       "    </tr>\n",
       "    <tr>\n",
       "      <th>2017-08-01</th>\n",
       "      <td>-0.8</td>\n",
       "      <td>-0.813898</td>\n",
       "    </tr>\n",
       "    <tr>\n",
       "      <th>2017-09-01</th>\n",
       "      <td>-0.6</td>\n",
       "      <td>-0.723789</td>\n",
       "    </tr>\n",
       "    <tr>\n",
       "      <th>2017-10-01</th>\n",
       "      <td>-0.4</td>\n",
       "      <td>-0.479220</td>\n",
       "    </tr>\n",
       "    <tr>\n",
       "      <th>2017-11-01</th>\n",
       "      <td>-0.1</td>\n",
       "      <td>-0.275214</td>\n",
       "    </tr>\n",
       "    <tr>\n",
       "      <th>2017-12-01</th>\n",
       "      <td>0.1</td>\n",
       "      <td>0.091570</td>\n",
       "    </tr>\n",
       "  </tbody>\n",
       "</table>\n",
       "</div>"
      ],
      "text/plain": [
       "            Mean  Predictions\n",
       "2017-01-01   0.2     0.355351\n",
       "2017-02-01  -0.1     0.023194\n",
       "2017-03-01  -0.4    -0.301900\n",
       "2017-04-01  -0.7    -0.558783\n",
       "2017-05-01  -0.9    -0.840018\n",
       "2017-06-01  -1.0    -0.966370\n",
       "2017-07-01  -0.9    -1.008473\n",
       "2017-08-01  -0.8    -0.813898\n",
       "2017-09-01  -0.6    -0.723789\n",
       "2017-10-01  -0.4    -0.479220\n",
       "2017-11-01  -0.1    -0.275214\n",
       "2017-12-01   0.1     0.091570"
      ]
     },
     "execution_count": 41,
     "metadata": {},
     "output_type": "execute_result"
    }
   ],
   "source": [
    "test.tail(12)"
   ]
  },
  {
   "cell_type": "code",
   "execution_count": 74,
   "metadata": {},
   "outputs": [
    {
     "name": "stdout",
     "output_type": "stream",
     "text": [
      "Accuracy Score: 83.48\n"
     ]
    }
   ],
   "source": [
    "# Now printing the test Accuracy\n",
    "testScore = math.sqrt(mean_squared_error(test['Mean'], trainpred[:120,0]))*100\n",
    "print('Accuracy Score: %.2f' % (testScore))"
   ]
  },
  {
   "cell_type": "code",
   "execution_count": 90,
   "metadata": {},
   "outputs": [],
   "source": [
    "# # Now we will predict the next year values of monthly wise\n",
    "# # Here our test values are present upto 2017\n",
    "# steps_yr = 120\n",
    "# d = int(input(\"Enter the number of months:\"))\n",
    "# a = pred[steps_yr:steps_yr+d]  # Our Test values are present upto 120 and now we are predicting next year values i.e 2018\n",
    "# a"
   ]
  },
  {
   "cell_type": "code",
   "execution_count": 51,
   "metadata": {},
   "outputs": [
    {
     "name": "stdout",
     "output_type": "stream",
     "text": [
      "0.551513\n",
      "It is Weak El-Nino\n"
     ]
    }
   ],
   "source": [
    "# # Here we can check monthly wise weather condition\n",
    "# print(a[21][0])\n",
    "# if a[21][0] >= 0.5 and a[21][0] <= 0.9:\n",
    "#     print('It is Weak El-Nino')\n",
    "# elif a[21][0] >= 1.0 and a[21][0] <= 1.4:\n",
    "#     print('It is Moderate El-Nino')\n",
    "# elif a[21][0] >= 1.5 and a[21][0] <= 1.9:\n",
    "#     print('It is Strong El-Nino')\n",
    "# elif a[21][0] >= 2:\n",
    "#     print('It is Very Strong El-Nino')\n",
    "# elif a[21][0] <=-0.5 and a[21][0] >= -0.9:\n",
    "#     print('It is Weak La-Nina')\n",
    "# elif a[21][0] <= -1 and a[21][0] >= -1.4:\n",
    "#     print('It is Moderate La-Nina')\n",
    "# elif a[21][0] <= -1.5:\n",
    "#     print('It is Strong La-Nina')\n",
    "# else:\n",
    "#     print('It is a Moderate Season')\n"
   ]
  },
  {
   "cell_type": "code",
   "execution_count": 55,
   "metadata": {},
   "outputs": [
    {
     "data": {
      "text/plain": [
       "array([ 0.77548605], dtype=float32)"
      ]
     },
     "execution_count": 55,
     "metadata": {},
     "output_type": "execute_result"
    }
   ],
   "source": [
    "# # Now we can also check year wise weather condition\n",
    "# b = pred[132:144].mean(axis = 0)\n",
    "# b"
   ]
  },
  {
   "cell_type": "code",
   "execution_count": 88,
   "metadata": {},
   "outputs": [
    {
     "name": "stdout",
     "output_type": "stream",
     "text": [
      "Enter the Year to Predict:2021\n"
     ]
    }
   ],
   "source": [
    "step_yr = 2017\n",
    "yr = int(input('Enter the Year to Predict:'))\n",
    "c = yr - step_yr\n",
    "e = c-1\n",
    "b = pred[120+(e*12) : 120+(e*12)+12].mean(axis=0)"
   ]
  },
  {
   "cell_type": "code",
   "execution_count": null,
   "metadata": {},
   "outputs": [],
   "source": []
  },
  {
   "cell_type": "code",
   "execution_count": 89,
   "metadata": {},
   "outputs": [
    {
     "name": "stdout",
     "output_type": "stream",
     "text": [
      "[-0.63278145]\n",
      "2021 is Weak La-Nina\n"
     ]
    }
   ],
   "source": [
    "print(b)\n",
    "if b >= 0.5 and b <= 0.9:\n",
    "    print(yr, 'is Weak El-Nino')\n",
    "elif b >= 1.0 and b <= 1.4:\n",
    "    print('It is Moderate El-Nino')\n",
    "elif b >= 1.5 and b <= 1.9:\n",
    "    print(yr, 'is Strong El-Nino')\n",
    "elif b >= 2:\n",
    "    print(yr, 'is Very Strong El-Nino')\n",
    "elif b <=-0.5 and b >= -0.9:\n",
    "    print(yr, 'is Weak La-Nina')\n",
    "elif b <= -1 and b >= -1.4:\n",
    "    print(yr, 'is Moderate La-Nina')\n",
    "elif b <= -1.5:\n",
    "    print(yr, 'is Strong La-Nina')\n",
    "else:\n",
    "    print(yr, 'is a Moderate Year')"
   ]
  },
  {
   "cell_type": "code",
   "execution_count": null,
   "metadata": {},
   "outputs": [],
   "source": []
  },
  {
   "cell_type": "code",
   "execution_count": 58,
   "metadata": {},
   "outputs": [
    {
     "data": {
      "text/plain": [
       "DatetimeIndex(['2008-01-01', '2008-02-01', '2008-03-01', '2008-04-01',\n",
       "               '2008-05-01', '2008-06-01', '2008-07-01', '2008-08-01',\n",
       "               '2008-09-01', '2008-10-01',\n",
       "               ...\n",
       "               '2027-03-01', '2027-04-01', '2027-05-01', '2027-06-01',\n",
       "               '2027-07-01', '2027-08-01', '2027-09-01', '2027-10-01',\n",
       "               '2027-11-01', '2027-12-01'],\n",
       "              dtype='datetime64[ns]', length=240, freq='MS')"
      ]
     },
     "execution_count": 58,
     "metadata": {},
     "output_type": "execute_result"
    }
   ],
   "source": [
    "# Now plot the graph of future predicted values for that generate a date range series upto 2027\n",
    "dates1 = pd.date_range(start = '2008-01', freq = 'MS', end = '2027-12')\n",
    "dates1"
   ]
  },
  {
   "cell_type": "code",
   "execution_count": 59,
   "metadata": {},
   "outputs": [],
   "source": [
    "new_df = pd.DataFrame({'Predicted_values':pred[:,0]})\n"
   ]
  },
  {
   "cell_type": "code",
   "execution_count": 60,
   "metadata": {},
   "outputs": [],
   "source": [
    "new_df.set_index(dates1, inplace = True)"
   ]
  },
  {
   "cell_type": "code",
   "execution_count": 61,
   "metadata": {},
   "outputs": [
    {
     "data": {
      "text/html": [
       "<div>\n",
       "<style scoped>\n",
       "    .dataframe tbody tr th:only-of-type {\n",
       "        vertical-align: middle;\n",
       "    }\n",
       "\n",
       "    .dataframe tbody tr th {\n",
       "        vertical-align: top;\n",
       "    }\n",
       "\n",
       "    .dataframe thead th {\n",
       "        text-align: right;\n",
       "    }\n",
       "</style>\n",
       "<table border=\"1\" class=\"dataframe\">\n",
       "  <thead>\n",
       "    <tr style=\"text-align: right;\">\n",
       "      <th></th>\n",
       "      <th>Predicted_values</th>\n",
       "    </tr>\n",
       "  </thead>\n",
       "  <tbody>\n",
       "    <tr>\n",
       "      <th>2008-01-01</th>\n",
       "      <td>-0.307977</td>\n",
       "    </tr>\n",
       "    <tr>\n",
       "      <th>2008-02-01</th>\n",
       "      <td>-0.323486</td>\n",
       "    </tr>\n",
       "    <tr>\n",
       "      <th>2008-03-01</th>\n",
       "      <td>-0.234565</td>\n",
       "    </tr>\n",
       "    <tr>\n",
       "      <th>2008-04-01</th>\n",
       "      <td>-0.284310</td>\n",
       "    </tr>\n",
       "    <tr>\n",
       "      <th>2008-05-01</th>\n",
       "      <td>-0.446523</td>\n",
       "    </tr>\n",
       "  </tbody>\n",
       "</table>\n",
       "</div>"
      ],
      "text/plain": [
       "            Predicted_values\n",
       "2008-01-01         -0.307977\n",
       "2008-02-01         -0.323486\n",
       "2008-03-01         -0.234565\n",
       "2008-04-01         -0.284310\n",
       "2008-05-01         -0.446523"
      ]
     },
     "execution_count": 61,
     "metadata": {},
     "output_type": "execute_result"
    }
   ],
   "source": [
    "new_df.head()"
   ]
  },
  {
   "cell_type": "code",
   "execution_count": 62,
   "metadata": {},
   "outputs": [
    {
     "data": {
      "text/html": [
       "<div>\n",
       "<style scoped>\n",
       "    .dataframe tbody tr th:only-of-type {\n",
       "        vertical-align: middle;\n",
       "    }\n",
       "\n",
       "    .dataframe tbody tr th {\n",
       "        vertical-align: top;\n",
       "    }\n",
       "\n",
       "    .dataframe thead th {\n",
       "        text-align: right;\n",
       "    }\n",
       "</style>\n",
       "<table border=\"1\" class=\"dataframe\">\n",
       "  <thead>\n",
       "    <tr style=\"text-align: right;\">\n",
       "      <th></th>\n",
       "      <th>Predicted_values</th>\n",
       "    </tr>\n",
       "  </thead>\n",
       "  <tbody>\n",
       "    <tr>\n",
       "      <th>2027-08-01</th>\n",
       "      <td>-0.813898</td>\n",
       "    </tr>\n",
       "    <tr>\n",
       "      <th>2027-09-01</th>\n",
       "      <td>-0.723789</td>\n",
       "    </tr>\n",
       "    <tr>\n",
       "      <th>2027-10-01</th>\n",
       "      <td>-0.479220</td>\n",
       "    </tr>\n",
       "    <tr>\n",
       "      <th>2027-11-01</th>\n",
       "      <td>-0.275214</td>\n",
       "    </tr>\n",
       "    <tr>\n",
       "      <th>2027-12-01</th>\n",
       "      <td>0.091570</td>\n",
       "    </tr>\n",
       "  </tbody>\n",
       "</table>\n",
       "</div>"
      ],
      "text/plain": [
       "            Predicted_values\n",
       "2027-08-01         -0.813898\n",
       "2027-09-01         -0.723789\n",
       "2027-10-01         -0.479220\n",
       "2027-11-01         -0.275214\n",
       "2027-12-01          0.091570"
      ]
     },
     "execution_count": 62,
     "metadata": {},
     "output_type": "execute_result"
    }
   ],
   "source": [
    "new_df.tail()"
   ]
  },
  {
   "cell_type": "code",
   "execution_count": 65,
   "metadata": {},
   "outputs": [
    {
     "data": {
      "text/plain": [
       "Text(0.5,1,'Forecasting on Actual data')"
      ]
     },
     "execution_count": 65,
     "metadata": {},
     "output_type": "execute_result"
    },
    {
     "data": {
      "image/png": "[encoded data removed]",
      "text/plain": [
       "<Figure size 1080x360 with 1 Axes>"
      ]
     },
     "metadata": {},
     "output_type": "display_data"
    }
   ],
   "source": [
    "plt.figure(figsize=(15,5))\n",
    "plt.plot(train['Mean'])\n",
    "plt.plot(test['Mean'], color = 'black')\n",
    "plt.plot(test['Predictions'], color = 'orange')\n",
    "plt.plot(new_df['Predicted_values'][120:], color = 'red')\n",
    "plt.xlabel('Years')\n",
    "plt.ylabel('Mean')\n",
    "plt.legend(loc = True)\n",
    "plt.title('Forecasting on Actual data')\n"
   ]
  },
  {
   "cell_type": "code",
   "execution_count": null,
   "metadata": {},
   "outputs": [],
   "source": []
  },
  {
   "cell_type": "code",
   "execution_count": null,
   "metadata": {},
   "outputs": [],
   "source": []
  }
 ],
 "metadata": {
  "kernelspec": {
   "display_name": "Python 3",
   "language": "python",
   "name": "python3"
  },
  "language_info": {
   "codemirror_mode": {
    "name": "ipython",
    "version": 3
   },
   "file_extension": ".py",
   "mimetype": "text/x-python",
   "name": "python",
   "nbconvert_exporter": "python",
   "pygments_lexer": "ipython3",
   "version": "3.6.5"
  }
 },
 "nbformat": 4,
 "nbformat_minor": 2
}
